{
 "cells": [
  {
   "cell_type": "code",
   "execution_count": 17,
   "id": "156e30aa",
   "metadata": {},
   "outputs": [
    {
     "name": "stdout",
     "output_type": "stream",
     "text": [
      "/Users/minjunelee/.local/share/virtualenvs/cool-tree--Ojg4KeM/lib/python3.8/site-packages/spb_cli-0.17.0-py3.8.egg/spb/sdk.py\n",
      "[INFO] Set project success: lokiTest\n",
      "Described labels : 1\n",
      "1st label id : 280c129a-ddbf-4b93-9342-51324753fd9f 스크린샷 2022-09-01 오후 5.22.10.png\n"
     ]
    }
   ],
   "source": [
    "import os\n",
    "import json\n",
    "os.environ['AWS_PROFILE'] = \"suite-dev\"\n",
    "os.environ['SPB_APP_API_ENDPOINT'] = \"https://api-apne2.dev.superb-ai.com\"\n",
    "os.environ['MJLEE_ACCESS_KEY'] = \"36d0ade1fdaeecd2dd4be289f53cd4b8\"\n",
    "os.environ['MJLEE_TENANT'] = 'mjlee'\n",
    "# for dev environment\n",
    "from spb import sdk\n",
    "\n",
    "PROJECT_NAME = \"lokiTest\"\n",
    "print(sdk.__file__)\n",
    "\n",
    "\n",
    "from spb.labels.manager import LabelManager\n",
    "from spb.projects.manager import ProjectManager\n",
    "from spb.utils import SearchFilter\n",
    "\n",
    "project_manager = ProjectManager()\n",
    "project = project_manager.get_project_by_name(PROJECT_NAME)\n",
    "\n",
    "client = sdk.Client()\n",
    "client.set_project(project=project)\n",
    "\n",
    "project_manager = ProjectManager()\n",
    "\n",
    "manager = LabelManager()\n",
    "filter = SearchFilter()\n",
    "count, labels, cursor = manager.search_labels(\n",
    "    project=project,\n",
    "    filter=None,\n",
    "    cursor=None,\n",
    "    page_size=1\n",
    ")\n",
    "\n",
    "print(f\"Described labels : {count}\")\n",
    "label = None\n",
    "if len(labels) > 0:\n",
    "    print(f\"1st label id : {labels[0].id} {labels[0].data_key}\")\n",
    "    label = labels[0]\n",
    "else:\n",
    "    raise Error(\"ERROR ERROR. LABEL DJQTEK\")\n",
    "\n",
    "_, handlers, _ = client.get_labels(\n",
    "    page_size=1\n",
    ")\n",
    "handler=handlers[0]"
   ]
  },
  {
   "cell_type": "markdown",
   "id": "7424b3e1",
   "metadata": {},
   "source": [
    "# Update Label Info : Client"
   ]
  },
  {
   "cell_type": "code",
   "execution_count": 2,
   "id": "fe4f0158",
   "metadata": {},
   "outputs": [
    {
     "name": "stdout",
     "output_type": "stream",
     "text": [
      "BEFORE....\n",
      "{\n",
      "  \"objects\": [\n",
      "    {\n",
      "      \"id\": \"bdcfa6e6-302c-41d5-8df3-16d0e8575fe0\",\n",
      "      \"class_id\": \"2adca68d-9251-4932-85f6-17f1a2312c77\",\n",
      "      \"tracking_id\": 1,\n",
      "      \"class_name\": \"Car\",\n",
      "      \"annotation_type\": \"cuboid\",\n",
      "      \"frames\": [\n",
      "        {\n",
      "          \"num\": 0,\n",
      "          \"properties\": [],\n",
      "          \"annotation\": {\n",
      "            \"coord\": {\n",
      "              \"position\": {\n",
      "                \"x\": -0.6453402999197443,\n",
      "                \"y\": -0.9543522744482859,\n",
      "                \"z\": 0.5\n",
      "              },\n",
      "              \"rotation_quaternion\": {\n",
      "                \"x\": 0,\n",
      "                \"y\": 0,\n",
      "                \"z\": 0,\n",
      "                \"w\": 1\n",
      "              },\n",
      "              \"size\": {\n",
      "                \"x\": 1,\n",
      "                \"y\": 1,\n",
      "                \"z\": 1\n",
      "              }\n",
      "            },\n",
      "            \"meta\": {\n",
      "              \"visible\": true,\n",
      "              \"alpha\": 1,\n",
      "              \"color\": \"#FF625A\"\n",
      "            }\n",
      "          }\n",
      "        }\n",
      "      ],\n",
      "      \"properties\": []\n",
      "    },\n",
      "    {\n",
      "      \"id\": \"78198798-8fe7-4819-93a5-3b43950a7958\",\n",
      "      \"class_id\": \"2adca68d-9251-4932-85f6-17f1a2312c77\",\n",
      "      \"tracking_id\": 2,\n",
      "      \"class_name\": \"Car\",\n",
      "      \"annotation_type\": \"cuboid\",\n",
      "      \"frames\": [\n",
      "        {\n",
      "          \"num\": 0,\n",
      "          \"properties\": [],\n",
      "          \"annotation\": {\n",
      "            \"coord\": {\n",
      "              \"position\": {\n",
      "                \"x\": 0.5036949218739508,\n",
      "                \"y\": 5.084361806250345,\n",
      "                \"z\": 0.5\n",
      "              },\n",
      "              \"rotation_quaternion\": {\n",
      "                \"x\": 0,\n",
      "                \"y\": 0,\n",
      "                \"z\": 0,\n",
      "                \"w\": 1\n",
      "              },\n",
      "              \"size\": {\n",
      "                \"x\": 1,\n",
      "                \"y\": 1,\n",
      "                \"z\": 1\n",
      "              }\n",
      "            },\n",
      "            \"meta\": {\n",
      "              \"visible\": true,\n",
      "              \"alpha\": 1,\n",
      "              \"color\": \"#FF625A\"\n",
      "            }\n",
      "          }\n",
      "        }\n",
      "      ],\n",
      "      \"properties\": []\n",
      "    }\n",
      "  ],\n",
      "  \"categories\": {\n",
      "    \"properties\": [],\n",
      "    \"frames\": []\n",
      "  }\n",
      "}\n"
     ]
    },
    {
     "ename": "NotSupportedException",
     "evalue": "[001002] Does not support update label result.",
     "output_type": "error",
     "traceback": [
      "\u001b[0;31m---------------------------------------------------------------------------\u001b[0m",
      "\u001b[0;31mNotSupportedException\u001b[0m                     Traceback (most recent call last)",
      "Cell \u001b[0;32mIn[2], line 4\u001b[0m\n\u001b[1;32m      2\u001b[0m \u001b[38;5;28mprint\u001b[39m(json\u001b[38;5;241m.\u001b[39mdumps(handler\u001b[38;5;241m.\u001b[39m_data\u001b[38;5;241m.\u001b[39mresult, indent\u001b[38;5;241m=\u001b[39m\u001b[38;5;241m2\u001b[39m))\n\u001b[1;32m      3\u001b[0m labels \u001b[38;5;241m=\u001b[39m handler\u001b[38;5;241m.\u001b[39mget_object_labels()\n\u001b[0;32m----> 4\u001b[0m \u001b[43mhandler\u001b[49m\u001b[38;5;241;43m.\u001b[39;49m\u001b[43mset_object_labels\u001b[49m\u001b[43m(\u001b[49m\u001b[43mlabels\u001b[49m\u001b[43m)\u001b[49m\n\u001b[1;32m      6\u001b[0m categories \u001b[38;5;241m=\u001b[39m handler\u001b[38;5;241m.\u001b[39mget_category_labels()\n\u001b[1;32m      7\u001b[0m handler\u001b[38;5;241m.\u001b[39mset_category_labels(categories)\n",
      "File \u001b[0;32m~/.local/share/virtualenvs/cool-tree--Ojg4KeM/lib/python3.8/site-packages/spb_cli-0.17.0-py3.8.egg/spb/pointcloud_sdk.py:38\u001b[0m, in \u001b[0;36mPointcloudDataHandle.set_object_labels\u001b[0;34m(self, labels)\u001b[0m\n\u001b[1;32m     37\u001b[0m \u001b[38;5;28;01mdef\u001b[39;00m \u001b[38;5;21mset_object_labels\u001b[39m(\u001b[38;5;28mself\u001b[39m, labels):\n\u001b[0;32m---> 38\u001b[0m     \u001b[38;5;28;01mraise\u001b[39;00m NotSupportedException(\u001b[38;5;124m\"\u001b[39m\u001b[38;5;124mDoes not support update label result.\u001b[39m\u001b[38;5;124m\"\u001b[39m)\n",
      "\u001b[0;31mNotSupportedException\u001b[0m: [001002] Does not support update label result."
     ]
    }
   ],
   "source": [
    "print(\"BEFORE....\")\n",
    "print(json.dumps(handler._data.result, indent=2))\n",
    "labels = handler.get_object_labels()\n",
    "handler.set_object_labels(labels)\n",
    "\n",
    "categories = handler.get_category_labels()\n",
    "handler.set_category_labels(categories)\n",
    "\n",
    "handler.update_info()\n",
    "print(\"AFTER....\")\n",
    "print(json.dumps(handler._data.result, indent=2))"
   ]
  },
  {
   "cell_type": "markdown",
   "id": "b488d90b",
   "metadata": {},
   "source": [
    "# Update tags : Manager"
   ]
  },
  {
   "cell_type": "code",
   "execution_count": 3,
   "id": "7d1679d1",
   "metadata": {},
   "outputs": [
    {
     "data": {
      "text/plain": [
       "[{'name': 'cc'}, {'name': 'ee'}]"
      ]
     },
     "execution_count": 3,
     "metadata": {},
     "output_type": "execute_result"
    }
   ],
   "source": [
    "label = manager.update_tags(\n",
    "    label=label,\n",
    "    tags=[\"cc\", \"ee\"]\n",
    ")\n",
    "[tag.__dict__ for tag in label.tags]"
   ]
  },
  {
   "cell_type": "markdown",
   "id": "c2424786",
   "metadata": {},
   "source": [
    "## Update tags : Client"
   ]
  },
  {
   "cell_type": "code",
   "execution_count": 4,
   "id": "5c139143",
   "metadata": {},
   "outputs": [],
   "source": [
    "label = handler.update_tags(\n",
    "    tags=[\"dd\", \"ff\"]\n",
    ")"
   ]
  },
  {
   "cell_type": "markdown",
   "id": "a0fd34fa",
   "metadata": {},
   "source": [
    "# Update assignee : Manager"
   ]
  },
  {
   "cell_type": "markdown",
   "id": "edf66189",
   "metadata": {},
   "source": [
    "### Assign assignee"
   ]
  },
  {
   "cell_type": "code",
   "execution_count": 5,
   "id": "09e203ca",
   "metadata": {},
   "outputs": [
    {
     "name": "stdout",
     "output_type": "stream",
     "text": [
      "mjlee@superb-ai.com\n"
     ]
    }
   ],
   "source": [
    "label = manager.update_assignee(\n",
    "    label=label,\n",
    "    assignee=\"mjlee@superb-ai.com\"\n",
    ")\n",
    "print(label.work_assignee)"
   ]
  },
  {
   "cell_type": "markdown",
   "id": "af59dd49",
   "metadata": {},
   "source": [
    "### Unassign assignee"
   ]
  },
  {
   "cell_type": "code",
   "execution_count": 6,
   "id": "97bf5e94",
   "metadata": {},
   "outputs": [
    {
     "name": "stdout",
     "output_type": "stream",
     "text": [
      "\n"
     ]
    }
   ],
   "source": [
    "label = manager.update_assignee(\n",
    "    label=label,\n",
    "    assignee=None\n",
    ")\n",
    "print(label.work_assignee)"
   ]
  },
  {
   "cell_type": "markdown",
   "id": "f50b1a98",
   "metadata": {},
   "source": [
    "# Update reviewer : Manager"
   ]
  },
  {
   "cell_type": "markdown",
   "id": "409910bd",
   "metadata": {},
   "source": [
    "### Assign reviewer"
   ]
  },
  {
   "cell_type": "code",
   "execution_count": 7,
   "id": "c53d38be",
   "metadata": {},
   "outputs": [
    {
     "name": "stdout",
     "output_type": "stream",
     "text": [
      "mjlee@superb-ai.com\n"
     ]
    }
   ],
   "source": [
    "label = manager.update_reviewer(\n",
    "    label=label,\n",
    "    reviewer=\"mjlee@superb-ai.com\"\n",
    ")\n",
    "print(label.reviewer)"
   ]
  },
  {
   "cell_type": "markdown",
   "id": "30f8e589",
   "metadata": {},
   "source": [
    "### Unassign reviewer"
   ]
  },
  {
   "cell_type": "code",
   "execution_count": 8,
   "id": "a48e684a",
   "metadata": {},
   "outputs": [
    {
     "name": "stdout",
     "output_type": "stream",
     "text": [
      "\n"
     ]
    }
   ],
   "source": [
    "label = manager.update_reviewer(\n",
    "    label=label,\n",
    "    reviewer=None\n",
    ")\n",
    "print(label.reviewer)"
   ]
  },
  {
   "cell_type": "markdown",
   "id": "29677fc4",
   "metadata": {},
   "source": [
    "# Assign assignee : Client"
   ]
  },
  {
   "cell_type": "markdown",
   "id": "190f259f",
   "metadata": {},
   "source": [
    "### Assign"
   ]
  },
  {
   "cell_type": "code",
   "execution_count": 9,
   "id": "ede05bca",
   "metadata": {},
   "outputs": [
    {
     "name": "stdout",
     "output_type": "stream",
     "text": [
      "mjlee@superb-ai.com\n"
     ]
    }
   ],
   "source": [
    "from spb.users import User\n",
    "user = User(email=\"mjlee@superb-ai.com\")\n",
    "label = handler.update_assignee(assignee=user)\n",
    "print(label.work_assignee)"
   ]
  },
  {
   "cell_type": "markdown",
   "id": "0eab2c2b",
   "metadata": {},
   "source": [
    "### Unassign"
   ]
  },
  {
   "cell_type": "code",
   "execution_count": 10,
   "id": "27e1a744",
   "metadata": {},
   "outputs": [
    {
     "name": "stdout",
     "output_type": "stream",
     "text": [
      "\n"
     ]
    }
   ],
   "source": [
    "label = handler.update_assignee(assignee=None)\n",
    "print(label.work_assignee)"
   ]
  },
  {
   "cell_type": "markdown",
   "id": "092d72b5",
   "metadata": {},
   "source": [
    "# Assign reviewer : Client"
   ]
  },
  {
   "cell_type": "markdown",
   "id": "04ab6530",
   "metadata": {},
   "source": [
    "### Assign"
   ]
  },
  {
   "cell_type": "code",
   "execution_count": 11,
   "id": "756632ac",
   "metadata": {},
   "outputs": [
    {
     "name": "stdout",
     "output_type": "stream",
     "text": [
      "mjlee@superb-ai.com\n"
     ]
    }
   ],
   "source": [
    "from spb.users import User\n",
    "user = User(email=\"mjlee@superb-ai.com\")\n",
    "label = handler.update_reviewer(reviewer=user)\n",
    "print(label.reviewer)"
   ]
  },
  {
   "cell_type": "markdown",
   "id": "8b37d592",
   "metadata": {},
   "source": [
    "### Unassign"
   ]
  },
  {
   "cell_type": "code",
   "execution_count": 12,
   "id": "7648f76c",
   "metadata": {},
   "outputs": [
    {
     "name": "stdout",
     "output_type": "stream",
     "text": [
      "\n"
     ]
    }
   ],
   "source": [
    "label = handler.update_reviewer(reviewer=None)\n",
    "print(label.work_assignee)"
   ]
  },
  {
   "cell_type": "markdown",
   "id": "ae434642",
   "metadata": {},
   "source": [
    "# Update label status : Manager"
   ]
  },
  {
   "cell_type": "code",
   "execution_count": 13,
   "id": "77ff23aa",
   "metadata": {},
   "outputs": [
    {
     "name": "stdout",
     "output_type": "stream",
     "text": [
      "Before : WORKING\n",
      "After : SUBMITTED\n"
     ]
    }
   ],
   "source": [
    "label = manager.update_status(\n",
    "    label=label,\n",
    "    status=\"WORKING\"\n",
    ")\n",
    "print(f\"Before : {label.status}\")\n",
    "\n",
    "label = manager.update_status(\n",
    "    label=label,\n",
    "    status=\"SUBMITTED\"\n",
    ")\n",
    "print(f\"After : {label.status}\")"
   ]
  },
  {
   "cell_type": "markdown",
   "id": "726fce6f",
   "metadata": {},
   "source": [
    "# Update label review status : Manager"
   ]
  },
  {
   "cell_type": "code",
   "execution_count": 14,
   "id": "a0bddfb0",
   "metadata": {},
   "outputs": [
    {
     "name": "stdout",
     "output_type": "stream",
     "text": [
      "Before : APPROVE\n",
      "After : REJECT\n"
     ]
    }
   ],
   "source": [
    "label = manager.update_review_status(\n",
    "    label=label,\n",
    "    status=\"APPROVE\"\n",
    ")\n",
    "print(f\"Before : {label.last_review_action}\")\n",
    "\n",
    "label = manager.update_review_status(\n",
    "    label=label,\n",
    "    status=\"REJECT\"\n",
    ")\n",
    "print(f\"After : {label.last_review_action}\")"
   ]
  },
  {
   "cell_type": "markdown",
   "id": "30e17777",
   "metadata": {},
   "source": [
    "# Update label status : Client"
   ]
  },
  {
   "cell_type": "code",
   "execution_count": 15,
   "id": "90b5f76c",
   "metadata": {},
   "outputs": [
    {
     "name": "stdout",
     "output_type": "stream",
     "text": [
      "Before : WORKING\n",
      "Before : SUBMITTED\n"
     ]
    }
   ],
   "source": [
    "handler.update_status(\n",
    "    status=\"WORKING\"\n",
    ")\n",
    "print(f\"Before : {handler.get_status()}\")\n",
    "\n",
    "handler.update_status(\n",
    "    status=\"SUBMITTED\"\n",
    ")\n",
    "print(f\"Before : {handler.get_status()}\")"
   ]
  },
  {
   "cell_type": "markdown",
   "id": "a60d0e9a",
   "metadata": {},
   "source": [
    "# Update label review status : Client"
   ]
  },
  {
   "cell_type": "code",
   "execution_count": 16,
   "id": "db57812c",
   "metadata": {},
   "outputs": [
    {
     "name": "stdout",
     "output_type": "stream",
     "text": [
      "Before : APPROVE\n",
      "Before : REJECT\n"
     ]
    }
   ],
   "source": [
    "handler.update_review_status(\n",
    "    status=\"APPROVE\"\n",
    ")\n",
    "print(f\"Before : {handler.get_review_status()}\")\n",
    "\n",
    "handler.update_review_status(\n",
    "    status=\"REJECT\"\n",
    ")\n",
    "print(f\"Before : {handler.get_review_status()}\")"
   ]
  },
  {
   "cell_type": "code",
   "execution_count": null,
   "id": "fe9feae4",
   "metadata": {},
   "outputs": [],
   "source": []
  }
 ],
 "metadata": {
  "kernelspec": {
   "display_name": "Python 3 (ipykernel)",
   "language": "python",
   "name": "python3"
  },
  "language_info": {
   "codemirror_mode": {
    "name": "ipython",
    "version": 3
   },
   "file_extension": ".py",
   "mimetype": "text/x-python",
   "name": "python",
   "nbconvert_exporter": "python",
   "pygments_lexer": "ipython3",
   "version": "3.8.17"
  }
 },
 "nbformat": 4,
 "nbformat_minor": 5
}
