{
 "cells": [
  {
   "cell_type": "code",
   "execution_count": 1,
   "id": "c8f9fd2c",
   "metadata": {},
   "outputs": [
    {
     "name": "stdout",
     "output_type": "stream",
     "text": [
      "/Users/minjunelee/.local/share/virtualenvs/cool-tree--Ojg4KeM/lib/python3.8/site-packages/spb_cli-0.17.0-py3.8.egg/spb/sdk.py\n"
     ]
    }
   ],
   "source": [
    "import os\n",
    "os.environ['AWS_PROFILE'] = \"suite-dev\"\n",
    "os.environ['SPB_APP_API_ENDPOINT'] = \"https://api-apne2.dev.superb-ai.com\"\n",
    "os.environ['MJLEE_ACCESS_KEY'] = \"36d0ade1fdaeecd2dd4be289f53cd4b8\"\n",
    "os.environ['MJLEE_TENANT'] = 'mjlee'\n",
    "PROJECT_NAME = 'NO_ANNOTATIONS'\n",
    "# for dev environment\n",
    "from spb import sdk\n",
    "\n",
    "# Check package location\n",
    "print(sdk.__file__)"
   ]
  },
  {
   "cell_type": "markdown",
   "id": "668bc725",
   "metadata": {},
   "source": [
    "# SDK Client Test"
   ]
  },
  {
   "cell_type": "code",
   "execution_count": 4,
   "id": "86c2543a",
   "metadata": {},
   "outputs": [
    {
     "name": "stdout",
     "output_type": "stream",
     "text": [
      "NO_ANNOTATIONS - 9 users\n",
      "<spb.core.models.types.type.String object at 0x1153fc3a0> - <spb.core.models.types.type.String object at 0x1153f0d90>\n",
      "<spb.core.models.types.type.String object at 0x1153fc3a0> - <spb.core.models.types.type.String object at 0x1153f0d90>\n",
      "<spb.core.models.types.type.String object at 0x1153fc3a0> - <spb.core.models.types.type.String object at 0x1153f0d90>\n",
      "<spb.core.models.types.type.String object at 0x1153fc3a0> - <spb.core.models.types.type.String object at 0x1153f0d90>\n",
      "<spb.core.models.types.type.String object at 0x1153fc3a0> - <spb.core.models.types.type.String object at 0x1153f0d90>\n",
      "<spb.core.models.types.type.String object at 0x1153fc3a0> - <spb.core.models.types.type.String object at 0x1153f0d90>\n",
      "<spb.core.models.types.type.String object at 0x1153fc3a0> - <spb.core.models.types.type.String object at 0x1153f0d90>\n",
      "<spb.core.models.types.type.String object at 0x1153fc3a0> - <spb.core.models.types.type.String object at 0x1153f0d90>\n",
      "<spb.core.models.types.type.String object at 0x1153fc3a0> - <spb.core.models.types.type.String object at 0x1153f0d90>\n"
     ]
    }
   ],
   "source": [
    "client = sdk.Client(\n",
    "    project_name=PROJECT_NAME,\n",
    "    team_name=os.environ.get(\"MJLEE_TENANT\"),\n",
    "    access_key=os.environ.get(\"MJLEE_ACCESS_KEY\")\n",
    ")\n",
    "\n",
    "count, users = client.get_project_users()\n",
    "print(f\"{client.get_project_name()} - {count} users\")\n",
    "for user in users:\n",
    "    print(f\"{user.team_role} - {user.email}\")"
   ]
  },
  {
   "cell_type": "markdown",
   "id": "996f8423",
   "metadata": {},
   "source": [
    "# User Manager Test"
   ]
  },
  {
   "cell_type": "code",
   "execution_count": 3,
   "id": "657e9a7e",
   "metadata": {},
   "outputs": [
    {
     "name": "stdout",
     "output_type": "stream",
     "text": [
      "NO_ANNOTATIONS - 9 users\n",
      "<spb.core.models.types.type.String object at 0x1153fc3a0> - <spb.core.models.types.type.String object at 0x1153f0d90>\n",
      "<spb.core.models.types.type.String object at 0x1153fc3a0> - <spb.core.models.types.type.String object at 0x1153f0d90>\n",
      "<spb.core.models.types.type.String object at 0x1153fc3a0> - <spb.core.models.types.type.String object at 0x1153f0d90>\n",
      "<spb.core.models.types.type.String object at 0x1153fc3a0> - <spb.core.models.types.type.String object at 0x1153f0d90>\n",
      "<spb.core.models.types.type.String object at 0x1153fc3a0> - <spb.core.models.types.type.String object at 0x1153f0d90>\n",
      "<spb.core.models.types.type.String object at 0x1153fc3a0> - <spb.core.models.types.type.String object at 0x1153f0d90>\n",
      "<spb.core.models.types.type.String object at 0x1153fc3a0> - <spb.core.models.types.type.String object at 0x1153f0d90>\n",
      "<spb.core.models.types.type.String object at 0x1153fc3a0> - <spb.core.models.types.type.String object at 0x1153f0d90>\n",
      "<spb.core.models.types.type.String object at 0x1153fc3a0> - <spb.core.models.types.type.String object at 0x1153f0d90>\n"
     ]
    }
   ],
   "source": [
    "from spb.users.manager import UserManager\n",
    "from spb.projects.manager import ProjectManager\n",
    "\n",
    "projects = ProjectManager()\n",
    "project = projects.get_project_by_name(PROJECT_NAME)\n",
    "\n",
    "user_manager = UserManager()\n",
    "count, users = user_manager.get_project_users(project.id)\n",
    "print(f\"{project.name} - {count} users\")\n",
    "for user in users:\n",
    "    print(f\"{user.team_role} - {user.email}\")"
   ]
  },
  {
   "cell_type": "code",
   "execution_count": null,
   "id": "909e6e47",
   "metadata": {},
   "outputs": [],
   "source": []
  }
 ],
 "metadata": {
  "kernelspec": {
   "display_name": "Python 3 (ipykernel)",
   "language": "python",
   "name": "python3"
  },
  "language_info": {
   "codemirror_mode": {
    "name": "ipython",
    "version": 3
   },
   "file_extension": ".py",
   "mimetype": "text/x-python",
   "name": "python",
   "nbconvert_exporter": "python",
   "pygments_lexer": "ipython3",
   "version": "3.8.17"
  }
 },
 "nbformat": 4,
 "nbformat_minor": 5
}
