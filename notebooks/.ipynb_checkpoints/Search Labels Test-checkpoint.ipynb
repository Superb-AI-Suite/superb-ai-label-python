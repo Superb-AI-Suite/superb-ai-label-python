{
 "cells": [
  {
   "cell_type": "code",
   "execution_count": 4,
   "id": "e89a7a47",
   "metadata": {},
   "outputs": [
    {
     "name": "stdout",
     "output_type": "stream",
     "text": [
      "/Users/minjunelee/.local/share/virtualenvs/cool-tree--Ojg4KeM/lib/python3.8/site-packages/spb_cli-0.17.0-py3.8.egg/spb/sdk.py\n",
      "\n",
      "[INFO] Set project success: VideoProject\n"
     ]
    }
   ],
   "source": [
    "import os\n",
    "os.environ['AWS_PROFILE'] = \"suite-dev\"\n",
    "os.environ['SPB_APP_API_ENDPOINT'] = \"https://api-apne2.dev.superb-ai.com\"\n",
    "os.environ['MJLEE_ACCESS_KEY'] = \"36d0ade1fdaeecd2dd4be289f53cd4b8\"\n",
    "os.environ['MJLEE_TENANT'] = 'mjlee'\n",
    "# for dev environment\n",
    "from spb import sdk\n",
    "\n",
    "PROJECT_NAME = \"VideoProject\"\n",
    "print(sdk.__file__)\n",
    "\n",
    "\n",
    "from spb.labels.manager import LabelManager\n",
    "from spb.projects.manager import ProjectManager\n",
    "\n",
    "project_manager = ProjectManager()\n",
    "project = project_manager.get_project_by_name(PROJECT_NAME)\n",
    "\n",
    "from spb.utils import SearchFilter\n",
    "\n",
    "filter = SearchFilter()\n",
    "# filter.status_is_any_one_of = [\"WORKING\"]\n",
    "# filter.assignee_does_not_exists = True\n",
    "\n",
    "# filter.tag_contains_all_of = [\"EJEJEJEJ\"]\n",
    "# from datetime import datetime\n",
    "# filter.data_added_at_lte = datetime.now()\n",
    "# filter.data_added_at_lte = \"ef\"\n",
    "\n",
    "print(filter.to_filter_string())\n",
    "\n",
    "client = sdk.Client()\n",
    "client.set_project(project=project)\n"
   ]
  },
  {
   "cell_type": "markdown",
   "id": "37fccdf8",
   "metadata": {},
   "source": [
    "# Get Labels Test - Label Manager"
   ]
  },
  {
   "cell_type": "code",
   "execution_count": 6,
   "id": "a29ed1b3",
   "metadata": {},
   "outputs": [
    {
     "name": "stdout",
     "output_type": "stream",
     "text": [
      "Described labels : 1\n",
      "1st label id : 44253c57-4c49-42bc-a38e-a22db39b9284 video_images\n",
      "1 labels - Next None\n",
      "null\n"
     ]
    }
   ],
   "source": [
    "project_manager = ProjectManager()\n",
    "\n",
    "manager = LabelManager()\n",
    "count, labels, cursor = manager.search_labels(\n",
    "    project=project,\n",
    "    filter=filter,\n",
    "    cursor=None,\n",
    "    page_size=10\n",
    ")\n",
    "\n",
    "import json\n",
    "print(f\"Described labels : {count}\")\n",
    "if len(labels) > 0:\n",
    "    print(f\"1st label id : {labels[0].id} {labels[0].data_key}\")\n",
    "    print(json.dumps(labels[0].result, indent=2))\n",
    "\n",
    "while cursor :\n",
    "    count, labels, cursor = manager.search_labels(\n",
    "        project=project,\n",
    "        filter=filter,\n",
    "        cursor=cursor if cursor != 1 else None,\n",
    "        page_size=10\n",
    "    )\n",
    "    \n",
    "    print(f\"{len(labels)} labels - Next {cursor}\")\n",
    "    break"
   ]
  },
  {
   "cell_type": "markdown",
   "id": "7f952f71",
   "metadata": {},
   "source": [
    "# Get label ids test"
   ]
  },
  {
   "cell_type": "code",
   "execution_count": 4,
   "id": "f9580a68",
   "metadata": {},
   "outputs": [
    {
     "name": "stdout",
     "output_type": "stream",
     "text": [
      "Described labels : 197 and described = 30\n",
      "1st label id : 03a2c6fc-a91d-42b0-9c50-002f5a02958b\n",
      "30 labels - Next c2VhcmNoX2FmdGVyW109MTY3NzA0OTM5NTAwMCZzZWFyY2hfYWZ0ZXJbXT1mYjY0Yjg1ZS03YmVlLTRhNjMtYThhMC1lNDVmODA1OWI0NjU=\n",
      "30 labels - Next c2VhcmNoX2FmdGVyW109MTY3NzA0OTM3ODAwMCZzZWFyY2hfYWZ0ZXJbXT03MTFiNDgwMS1hZDgzLTRlNjEtYjlhNi04ZGRkYWFmYzVkNTU=\n",
      "30 labels - Next c2VhcmNoX2FmdGVyW109MTY3NzAzNTE5NzAwMCZzZWFyY2hfYWZ0ZXJbXT02YzQxNWI0Yi03ODc3LTQ4ZDktODM5MC00ODBiNDIxYjIyZTA=\n",
      "30 labels - Next c2VhcmNoX2FmdGVyW109MTY3NzAzNTE5NjAwMCZzZWFyY2hfYWZ0ZXJbXT0yYmEzMWEyMC03ZTAzLTQ1ZDAtOGQ2ZC05ZDkyMmZkYmExZWY=\n",
      "30 labels - Next c2VhcmNoX2FmdGVyW109MTY3NzAzNTE5NTAwMCZzZWFyY2hfYWZ0ZXJbXT0wNGZlZThjOS05Yzk4LTQ0YjQtOTE3Ni05YWM2NTlkNTY4ZjQ=\n",
      "17 labels - Next None\n"
     ]
    }
   ],
   "source": [
    "count, labels, cursor = manager.search_label_ids(\n",
    "    project=project,\n",
    "    filter=filter,\n",
    "    cursor=None,\n",
    "    page_size=30\n",
    ")\n",
    "\n",
    "print(f\"Described labels : {count} and described = {len(labels)}\")\n",
    "if len(labels) > 0:\n",
    "    print(f\"1st label id : {labels[0].id}\")\n",
    "    \n",
    "while cursor is not None:\n",
    "    count, labels, cursor = manager.search_label_ids(\n",
    "        project=project,\n",
    "        filter=filter,\n",
    "        cursor=cursor,\n",
    "        page_size=30\n",
    "    )\n",
    "    print(f\"{len(labels)} labels - Next {cursor}\")"
   ]
  },
  {
   "cell_type": "markdown",
   "id": "281955ea",
   "metadata": {},
   "source": [
    "## SDK Client"
   ]
  },
  {
   "cell_type": "code",
   "execution_count": 9,
   "id": "2b9fe726",
   "metadata": {},
   "outputs": [
    {
     "name": "stdout",
     "output_type": "stream",
     "text": [
      "Described labels : 0\n",
      "[WARNING] Label list is empty.\n",
      "LABELS : 0\n"
     ]
    }
   ],
   "source": [
    "count, labels, cursor = client.get_labels(\n",
    "    filter=filter,\n",
    "    cursor=None,\n",
    "    page_size=10\n",
    ")\n",
    "print(f\"Described labels : {count}\")\n",
    "if len(labels) > 0:\n",
    "    print(f\"1st label id : {labels[0].get_id()} {labels[0].get_key()}\")\n",
    "\n",
    "count = client.get_num_labels(\n",
    "    filter=filter,\n",
    ")\n",
    "print(f\"LABELS : {count}\")"
   ]
  },
  {
   "cell_type": "code",
   "execution_count": null,
   "id": "6b9114f9",
   "metadata": {},
   "outputs": [],
   "source": []
  }
 ],
 "metadata": {
  "kernelspec": {
   "display_name": "Python 3 (ipykernel)",
   "language": "python",
   "name": "python3"
  },
  "language_info": {
   "codemirror_mode": {
    "name": "ipython",
    "version": 3
   },
   "file_extension": ".py",
   "mimetype": "text/x-python",
   "name": "python",
   "nbconvert_exporter": "python",
   "pygments_lexer": "ipython3",
   "version": "3.8.17"
  }
 },
 "nbformat": 4,
 "nbformat_minor": 5
}
