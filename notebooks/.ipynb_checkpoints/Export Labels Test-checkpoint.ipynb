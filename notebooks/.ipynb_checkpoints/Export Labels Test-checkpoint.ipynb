{
 "cells": [
  {
   "cell_type": "code",
   "execution_count": 1,
   "id": "61fd65ee",
   "metadata": {},
   "outputs": [],
   "source": [
    "import os\n",
    "os.environ['AWS_PROFILE'] = \"suite-dev\"\n",
    "os.environ['SPB_APP_API_ENDPOINT'] = \"https://api-apne2.dev.superb-ai.com\"\n",
    "os.environ['MJLEE_ACCESS_KEY'] = \"36d0ade1fdaeecd2dd4be289f53cd4b8\"\n",
    "os.environ['MJLEE_TENANT'] = 'mjlee'\n",
    "# for dev environment\n",
    "from spb import sdk"
   ]
  },
  {
   "cell_type": "code",
   "execution_count": 2,
   "id": "3ed98742",
   "metadata": {},
   "outputs": [],
   "source": [
    "client = sdk.Client(\n",
    "    project_name=\"NO_ANNOTATIONS\",\n",
    "    team_name=os.environ.get(\"MJLEE_TENANT\"),\n",
    "    access_key=os.environ.get(\"MJLEE_ACCESS_KEY\")\n",
    ")"
   ]
  },
  {
   "cell_type": "code",
   "execution_count": 3,
   "id": "33fa74a5",
   "metadata": {},
   "outputs": [
    {
     "data": {
      "text/plain": [
       "'NO_ANNOTATIONS'"
      ]
     },
     "execution_count": 3,
     "metadata": {},
     "output_type": "execute_result"
    }
   ],
   "source": [
    "client.get_project_name()"
   ]
  },
  {
   "cell_type": "code",
   "execution_count": 4,
   "id": "f83ade4b",
   "metadata": {},
   "outputs": [
    {
     "data": {
      "text/plain": [
       "198"
      ]
     },
     "execution_count": 4,
     "metadata": {},
     "output_type": "execute_result"
    }
   ],
   "source": [
    "from spb.labels.manager import LabelManager\n",
    "manager = LabelManager(team_name=os.environ.get(\"MJLEE_TENANT\"), access_key=os.environ.get(\"MJLEE_ACCESS_KEY\"))\n",
    "manager.get_labels_count(\n",
    "    project_id=client.get_project_id(),\n",
    "    tags=[]\n",
    ")"
   ]
  },
  {
   "cell_type": "markdown",
   "id": "8e7004d8",
   "metadata": {},
   "source": [
    "# Request export without CAL, Transform"
   ]
  },
  {
   "cell_type": "code",
   "execution_count": 8,
   "id": "3b05c9df",
   "metadata": {},
   "outputs": [
    {
     "data": {
      "text/plain": [
       "<spb.tasks.task.Task at 0x105870910>"
      ]
     },
     "execution_count": 8,
     "metadata": {},
     "output_type": "execute_result"
    }
   ],
   "source": [
    "client.export_labels()"
   ]
  },
  {
   "cell_type": "markdown",
   "id": "1cc5875d",
   "metadata": {},
   "source": [
    "# Request export with default settings (CAL, Transform)"
   ]
  },
  {
   "cell_type": "code",
   "execution_count": 5,
   "id": "d002c8a1",
   "metadata": {},
   "outputs": [
    {
     "data": {
      "text/plain": [
       "<spb.tasks.task.Task at 0x105846880>"
      ]
     },
     "execution_count": 5,
     "metadata": {},
     "output_type": "execute_result"
    }
   ],
   "source": [
    "client.export_labels(\n",
    "    request_custom_auto_label=True,\n",
    "    request_transform=True,\n",
    "    transform_configuration={\"type\": \"YOLO\"}\n",
    ")"
   ]
  },
  {
   "cell_type": "markdown",
   "id": "7b7653d5",
   "metadata": {},
   "source": [
    "# Request export with name (with CAL, Transform)"
   ]
  },
  {
   "cell_type": "code",
   "execution_count": 7,
   "id": "d7fa741d",
   "metadata": {},
   "outputs": [
    {
     "data": {
      "text/plain": [
       "<spb.tasks.task.Task at 0x10587b880>"
      ]
     },
     "execution_count": 7,
     "metadata": {},
     "output_type": "execute_result"
    }
   ],
   "source": [
    "from datetime import datetime\n",
    "\n",
    "current_time = datetime.now()\n",
    "\n",
    "client.export_labels(\n",
    "    export_name=f\"YOHOYOHOYOHO {current_time.strftime('%Y-%m-%d %H%M%S')}\",\n",
    "    request_custom_auto_label=True,\n",
    "    request_transform=True,\n",
    "    transform_configuration={\"type\": \"YOLO\"}\n",
    ")"
   ]
  },
  {
   "cell_type": "markdown",
   "id": "64dc851a",
   "metadata": {},
   "source": [
    "# Request export with name (with CAL - with name, Transform)"
   ]
  },
  {
   "cell_type": "code",
   "execution_count": 9,
   "id": "2c6acdf2",
   "metadata": {},
   "outputs": [
    {
     "data": {
      "text/plain": [
       "<spb.tasks.task.Task at 0x13a509ca0>"
      ]
     },
     "execution_count": 9,
     "metadata": {},
     "output_type": "execute_result"
    }
   ],
   "source": [
    "from datetime import datetime\n",
    "\n",
    "current_time = datetime.now()\n",
    "\n",
    "client.export_labels(\n",
    "    export_name=f\"YOHOYOHOYOHO {current_time.strftime('%Y-%m-%d %H%M%S')}\",\n",
    "    request_custom_auto_label=True,\n",
    "    request_transform=True,\n",
    "    transform_configuration={\"type\": \"YOLO\"},\n",
    "    custom_auto_label_configuration={\"name\": f\"WOEOROEOWOEORO {current_time.strftime('%Y-%m-%d %H%M%S')}\"}\n",
    ")"
   ]
  },
  {
   "cell_type": "code",
   "execution_count": null,
   "id": "34fe571c",
   "metadata": {},
   "outputs": [],
   "source": []
  }
 ],
 "metadata": {
  "kernelspec": {
   "display_name": "Python 3 (ipykernel)",
   "language": "python",
   "name": "python3"
  },
  "language_info": {
   "codemirror_mode": {
    "name": "ipython",
    "version": 3
   },
   "file_extension": ".py",
   "mimetype": "text/x-python",
   "name": "python",
   "nbconvert_exporter": "python",
   "pygments_lexer": "ipython3",
   "version": "3.8.17"
  }
 },
 "nbformat": 4,
 "nbformat_minor": 5
}
