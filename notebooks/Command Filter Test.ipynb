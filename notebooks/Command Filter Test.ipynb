{
 "cells": [
  {
   "cell_type": "code",
   "execution_count": 3,
   "id": "5a22a371",
   "metadata": {},
   "outputs": [
    {
     "name": "stdout",
     "output_type": "stream",
     "text": [
      "status_in%5B%5D=WORKING\n",
      "[INFO] Set project success: public_test_project\n"
     ]
    }
   ],
   "source": [
    "import os\n",
    "os.environ['AWS_PROFILE'] = \"suite-dev\"\n",
    "os.environ['SPB_APP_API_ENDPOINT'] = \"https://api-apne2.dev.superb-ai.com\"\n",
    "os.environ['MJLEE_ACCESS_KEY'] = \"36d0ade1fdaeecd2dd4be289f53cd4b8\"\n",
    "os.environ['MJLEE_TENANT'] = 'mjlee'\n",
    "# for dev environment\n",
    "from spb import sdk\n",
    "\n",
    "PROJECT_NAME = \"public_test_project\"\n",
    "\n",
    "from spb.labels.manager import LabelManager\n",
    "from spb.projects.manager import ProjectManager\n",
    "from spb.tasks.manager import TaskManager\n",
    "\n",
    "project_manager = ProjectManager()\n",
    "project = project_manager.get_project_by_name(PROJECT_NAME)\n",
    "\n",
    "from spb.utils import SearchFilter\n",
    "\n",
    "TAG_NAME_ALL = [\"aa\", \"bb\"]\n",
    "# TAG_NAME_ALL = []\n",
    "STATUS_IN = [\"WORKING\"]\n",
    "filter = SearchFilter()\n",
    "filter.status_is_any_one_of = STATUS_IN\n",
    "\n",
    "\n",
    "print(filter.to_filter_string())\n",
    "\n",
    "client = sdk.Client()\n",
    "client.set_project(project=project)"
   ]
  },
  {
   "cell_type": "markdown",
   "id": "79d8eb0d",
   "metadata": {},
   "source": [
    "# Submit Label"
   ]
  },
  {
   "cell_type": "code",
   "execution_count": 2,
   "id": "b0c39a6c",
   "metadata": {},
   "outputs": [
    {
     "name": "stdout",
     "output_type": "stream",
     "text": [
      "<spb.tasks.task.Task object at 0x103bbe100>\n",
      "<spb.tasks.task.Task object at 0x103bbe100>\n"
     ]
    }
   ],
   "source": [
    "filter.tag_name_all = TAG_NAME_ALL\n",
    "print(client.submit_label(\n",
    "    tags=[\"Tag1\"],\n",
    "    filter=filter\n",
    "))\n",
    "\n",
    "manager = TaskManager()\n",
    "filter.tag_name_all = TAG_NAME_ALL\n",
    "print(manager.submit_label(\n",
    "    project_id=project.id,\n",
    "    tags=[\"Tag1\"],\n",
    "    filter=filter\n",
    "))"
   ]
  },
  {
   "cell_type": "markdown",
   "id": "9b641030",
   "metadata": {},
   "source": [
    "# Skip Label"
   ]
  },
  {
   "cell_type": "code",
   "execution_count": 4,
   "id": "c497e1b9",
   "metadata": {},
   "outputs": [
    {
     "name": "stdout",
     "output_type": "stream",
     "text": [
      "<spb.tasks.task.Task object at 0x103bd92e0>\n",
      "<spb.tasks.task.Task object at 0x103b53ac0>\n"
     ]
    }
   ],
   "source": [
    "filter.tag_name_all = TAG_NAME_ALL\n",
    "print(client.skip_label(\n",
    "    filter=filter\n",
    "))\n",
    "\n",
    "manager = TaskManager()\n",
    "filter.tag_name_all = TAG_NAME_ALL\n",
    "print(manager.skip_label(\n",
    "    project_id=project.id,\n",
    "    filter=filter\n",
    "))"
   ]
  },
  {
   "cell_type": "markdown",
   "id": "29f4d36c",
   "metadata": {},
   "source": [
    "# Initialize Label"
   ]
  },
  {
   "cell_type": "code",
   "execution_count": 9,
   "id": "6d059c78",
   "metadata": {},
   "outputs": [
    {
     "name": "stdout",
     "output_type": "stream",
     "text": [
      "<spb.tasks.task.Task object at 0x108ba5d60>\n",
      "<spb.tasks.task.Task object at 0x11fc3ef40>\n"
     ]
    }
   ],
   "source": [
    "filter.tag_name_all = TAG_NAME_ALL\n",
    "print(client.initialize_label(\n",
    "    filter=None,\n",
    "    tags=[\"Tag1\"],\n",
    "))\n",
    "\n",
    "manager = TaskManager()\n",
    "filter.tag_name_all = TAG_NAME_ALL\n",
    "print(manager.initialize_label(\n",
    "    project_id=project.id,\n",
    "    tags=[\"Tag1\"],\n",
    "    filter=None\n",
    "))"
   ]
  },
  {
   "cell_type": "markdown",
   "id": "f55f43d5",
   "metadata": {},
   "source": [
    "# Unassign Labeler"
   ]
  },
  {
   "cell_type": "code",
   "execution_count": 9,
   "id": "86f39851",
   "metadata": {},
   "outputs": [
    {
     "name": "stdout",
     "output_type": "stream",
     "text": [
      "<spb.tasks.task.Task object at 0x12fc5a5e0>\n",
      "<spb.tasks.task.Task object at 0x107ae4880>\n"
     ]
    }
   ],
   "source": [
    "filter.tag_name_all = TAG_NAME_ALL\n",
    "print(client.unassign_labeler(\n",
    "    tags=[\"Tag1\"],\n",
    "    filter=filter\n",
    "))\n",
    "\n",
    "manager = TaskManager()\n",
    "filter.tag_name_all = TAG_NAME_ALL\n",
    "print(manager.unassign_labeler(\n",
    "    project_id=project.id,\n",
    "    tags=[\"Tag1\"],\n",
    "    filter=filter\n",
    "))"
   ]
  },
  {
   "cell_type": "markdown",
   "id": "9bd3099a",
   "metadata": {},
   "source": [
    "# Assign Labeler"
   ]
  },
  {
   "cell_type": "code",
   "execution_count": 10,
   "id": "ca962242",
   "metadata": {},
   "outputs": [
    {
     "name": "stdout",
     "output_type": "stream",
     "text": [
      "<spb.tasks.task.Task object at 0x12fdd9df0>\n"
     ]
    }
   ],
   "source": [
    "filter.tag_name_all = TAG_NAME_ALL\n",
    "print(client.assign_labeler(\n",
    "    tags=[\"Tag1\"],\n",
    "    filter=filter,\n",
    "    work_assignee=[\"mjlee@superb-ai.com\"]\n",
    "))"
   ]
  },
  {
   "cell_type": "markdown",
   "id": "55bfe835",
   "metadata": {},
   "source": [
    "# Unassign Reviewer"
   ]
  },
  {
   "cell_type": "code",
   "execution_count": 11,
   "id": "a76378df",
   "metadata": {},
   "outputs": [
    {
     "name": "stdout",
     "output_type": "stream",
     "text": [
      "<spb.tasks.task.Task object at 0x107b4c3a0>\n",
      "<spb.tasks.task.Task object at 0x12fdc3fa0>\n"
     ]
    }
   ],
   "source": [
    "filter.tag_name_all = TAG_NAME_ALL\n",
    "print(client.unassign_reviewer(\n",
    "    tags=[\"Tag1\"],\n",
    "    filter=filter\n",
    "))\n",
    "\n",
    "manager = TaskManager()\n",
    "filter.tag_name_all = TAG_NAME_ALL\n",
    "print(manager.unassign_reviewer(\n",
    "    project_id=project.id,\n",
    "    tags=[\"Tag1\"],\n",
    "    filter=filter\n",
    "))"
   ]
  },
  {
   "cell_type": "markdown",
   "id": "8becdd64",
   "metadata": {},
   "source": [
    "# Assign Reviewer"
   ]
  },
  {
   "cell_type": "code",
   "execution_count": 12,
   "id": "a0738a10",
   "metadata": {},
   "outputs": [
    {
     "name": "stdout",
     "output_type": "stream",
     "text": [
      "<spb.tasks.task.Task object at 0x107b12310>\n"
     ]
    }
   ],
   "source": [
    "filter.tag_name_all = TAG_NAME_ALL\n",
    "print(client.assign_reviewer(\n",
    "    tags=[\"Tag1\"],\n",
    "    filter=filter,\n",
    "    work_assignee=[\"mjlee@superb-ai.com\"]\n",
    "))"
   ]
  },
  {
   "cell_type": "markdown",
   "id": "dbc5c7b4",
   "metadata": {},
   "source": [
    "# Export Labels"
   ]
  },
  {
   "cell_type": "code",
   "execution_count": 13,
   "id": "7595535f",
   "metadata": {},
   "outputs": [
    {
     "name": "stdout",
     "output_type": "stream",
     "text": [
      "<spb.tasks.task.Task object at 0x107b12070>\n",
      "<spb.tasks.task.Task object at 0x107aba760>\n"
     ]
    }
   ],
   "source": [
    "from datetime import datetime\n",
    "\n",
    "current_time = datetime.now()\n",
    "\n",
    "manager = TaskManager()\n",
    "filter.tag_name_all = TAG_NAME_ALL\n",
    "print(manager.export_labels_task(\n",
    "    project=project,\n",
    "    export_name=f\"YOHOYOHOYOHO MANAGER {current_time.strftime('%Y-%m-%d %H%M%S')}\",\n",
    "    tags=[\"Tag1\"],\n",
    "    filter=filter\n",
    "))\n",
    "\n",
    "filter.tag_name_all = TAG_NAME_ALL\n",
    "print(client.export_labels(\n",
    "    export_name=f\"YOHOYOHOYOHO SDK {current_time.strftime('%Y-%m-%d %H%M%S')}\",\n",
    "    tags=[\"Tag1\"],\n",
    "    filter=filter\n",
    "))"
   ]
  },
  {
   "cell_type": "markdown",
   "id": "0d63532b",
   "metadata": {},
   "source": [
    "# Auto Label Request"
   ]
  },
  {
   "cell_type": "code",
   "execution_count": 5,
   "id": "114270e9",
   "metadata": {},
   "outputs": [
    {
     "name": "stdout",
     "output_type": "stream",
     "text": [
      "<spb.tasks.task.Task object at 0x11fdac790>\n"
     ]
    }
   ],
   "source": [
    "manager = TaskManager()\n",
    "filter.tag_name_all = TAG_NAME_ALL\n",
    "manager.request_auto_label_task(\n",
    "    project_id=project.id,\n",
    "    tags=[\"Tag1\"],\n",
    "    filter=filter\n",
    ")\n",
    "\n",
    "filter.tag_name_all = TAG_NAME_ALL\n",
    "print(client.request_auto_label_task(\n",
    "    tags=[\"Tag1\"],\n",
    "    filter=filter\n",
    "))"
   ]
  },
  {
   "cell_type": "code",
   "execution_count": null,
   "id": "d8c99de1",
   "metadata": {},
   "outputs": [],
   "source": []
  }
 ],
 "metadata": {
  "kernelspec": {
   "display_name": "Python 3 (ipykernel)",
   "language": "python",
   "name": "python3"
  },
  "language_info": {
   "codemirror_mode": {
    "name": "ipython",
    "version": 3
   },
   "file_extension": ".py",
   "mimetype": "text/x-python",
   "name": "python",
   "nbconvert_exporter": "python",
   "pygments_lexer": "ipython3",
   "version": "3.8.17"
  }
 },
 "nbformat": 4,
 "nbformat_minor": 5
}
