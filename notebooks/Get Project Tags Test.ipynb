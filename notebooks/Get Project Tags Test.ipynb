{
 "cells": [
  {
   "cell_type": "code",
   "execution_count": 1,
   "id": "c8f9fd2c",
   "metadata": {},
   "outputs": [
    {
     "name": "stdout",
     "output_type": "stream",
     "text": [
      "/Users/minjunelee/.local/share/virtualenvs/cool-tree--Ojg4KeM/lib/python3.8/site-packages/spb_cli-0.17.0-py3.8.egg/spb/sdk.py\n"
     ]
    }
   ],
   "source": [
    "import os\n",
    "os.environ['AWS_PROFILE'] = \"suite-dev\"\n",
    "os.environ['SPB_APP_API_ENDPOINT'] = \"https://api-apne2.dev.superb-ai.com\"\n",
    "os.environ['MJLEE_ACCESS_KEY'] = \"36d0ade1fdaeecd2dd4be289f53cd4b8\"\n",
    "os.environ['MJLEE_TENANT'] = 'mjlee'\n",
    "PROJECT_NAME = 'NO_ANNOTATIONS'\n",
    "# for dev environment\n",
    "from spb import sdk\n",
    "\n",
    "# Check package location\n",
    "print(sdk.__file__)"
   ]
  },
  {
   "cell_type": "markdown",
   "id": "668bc725",
   "metadata": {},
   "source": [
    "# SDK Client Test"
   ]
  },
  {
   "cell_type": "code",
   "execution_count": 2,
   "id": "86c2543a",
   "metadata": {},
   "outputs": [
    {
     "name": "stdout",
     "output_type": "stream",
     "text": [
      "NO_ANNOTATIONS - 5 tags\n",
      "e3ad6618-15ba-4e7a-99d5-ebf72d4803c5 - aaaaa\n",
      "00c72c80-5fe7-49ad-a228-5f84197f8261 - Tag1\n",
      "6234bbea-4a7d-46d3-9229-df14898182cf - tt\n",
      "fb08d312-747b-43e1-abd6-48307ffccd42 - ttt\n",
      "b5066232-c49f-42e5-86ff-17198f2ed72c - tttt\n"
     ]
    }
   ],
   "source": [
    "client = sdk.Client(\n",
    "    project_name=PROJECT_NAME,\n",
    "    team_name=os.environ.get(\"MJLEE_TENANT\"),\n",
    "    access_key=os.environ.get(\"MJLEE_ACCESS_KEY\")\n",
    ")\n",
    "\n",
    "count, tags = client.get_project_tags()\n",
    "print(f\"{client.get_project_name()} - {count} tags\")\n",
    "for tag in tags:\n",
    "    print(f\"{str(tag.id)} - {tag.name}\")"
   ]
  },
  {
   "cell_type": "markdown",
   "id": "996f8423",
   "metadata": {},
   "source": [
    "# Project Manager Test"
   ]
  },
  {
   "cell_type": "code",
   "execution_count": 3,
   "id": "657e9a7e",
   "metadata": {},
   "outputs": [
    {
     "name": "stdout",
     "output_type": "stream",
     "text": [
      "NO_ANNOTATIONS - 5 tags\n",
      "e3ad6618-15ba-4e7a-99d5-ebf72d4803c5 - aaaaa\n",
      "00c72c80-5fe7-49ad-a228-5f84197f8261 - Tag1\n",
      "6234bbea-4a7d-46d3-9229-df14898182cf - tt\n",
      "fb08d312-747b-43e1-abd6-48307ffccd42 - ttt\n",
      "b5066232-c49f-42e5-86ff-17198f2ed72c - tttt\n"
     ]
    }
   ],
   "source": [
    "from spb.projects.manager import ProjectManager\n",
    "\n",
    "projects = ProjectManager()\n",
    "project = projects.get_project_by_name(PROJECT_NAME)\n",
    "count, tags = projects.get_tags(\n",
    "    project_id=project.id\n",
    ")\n",
    "print(f\"{project.name} - {count} tags\")\n",
    "for tag in tags:\n",
    "    print(str(tag.id) + \" - \" + tag.name)"
   ]
  },
  {
   "cell_type": "code",
   "execution_count": null,
   "id": "909e6e47",
   "metadata": {},
   "outputs": [],
   "source": []
  }
 ],
 "metadata": {
  "kernelspec": {
   "display_name": "Python 3 (ipykernel)",
   "language": "python",
   "name": "python3"
  },
  "language_info": {
   "codemirror_mode": {
    "name": "ipython",
    "version": 3
   },
   "file_extension": ".py",
   "mimetype": "text/x-python",
   "name": "python",
   "nbconvert_exporter": "python",
   "pygments_lexer": "ipython3",
   "version": "3.8.17"
  }
 },
 "nbformat": 4,
 "nbformat_minor": 5
}
