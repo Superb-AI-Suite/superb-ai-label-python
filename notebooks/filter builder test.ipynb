{
 "cells": [
  {
   "cell_type": "code",
   "execution_count": 5,
   "id": "1d3f877f",
   "metadata": {},
   "outputs": [],
   "source": [
    "import os\n",
    "os.environ['AWS_PROFILE'] = \"suite-dev\"\n",
    "os.environ['SPB_APP_API_ENDPOINT'] = \"https://api-apne2.dev.superb-ai.com\"\n",
    "os.environ['MJLEE_ACCESS_KEY'] = \"36d0ade1fdaeecd2dd4be289f53cd4b8\"\n",
    "os.environ['MJLEE_TENANT'] = 'mjlee'\n",
    "# for dev environment\n",
    "from spb.utils.search_filter import SearchFilter, Status, ReviewStatus\n",
    "from spb.projects.project import Project\n",
    "\n",
    "project = Project()\n",
    "# project.settings = {\n",
    "#     \"allow_advanced_qa\": True\n",
    "# }\n",
    "all_filters = []"
   ]
  },
  {
   "cell_type": "markdown",
   "id": "8f8b99ef",
   "metadata": {},
   "source": [
    "# Status filter"
   ]
  },
  {
   "cell_type": "code",
   "execution_count": 7,
   "id": "3fe83d2f",
   "metadata": {},
   "outputs": [
    {
     "name": "stdout",
     "output_type": "stream",
     "text": [
      "status_in%5B%5D=WORKING\n"
     ]
    }
   ],
   "source": [
    "filter = SearchFilter(project=project)\n",
    "\n",
    "# filter.status_is_any_one_of = [\"SUBMITTED\", \"SKIPPED\"]\n",
    "filter.status_is_any_one_of = [\"WORKING\"]\n",
    "\n",
    "\n",
    "# # Dumb data\n",
    "# filter.status_is_any_one_of = [\"DUMB STATUS\"]\n",
    "\n",
    "try:\n",
    "    filter_string = filter.to_filter_string()\n",
    "    all_filters += [filter_string]\n",
    "    print(filter_string)\n",
    "except Exception as e:\n",
    "    print(str(e))\n"
   ]
  },
  {
   "cell_type": "markdown",
   "id": "1f8cd0ba",
   "metadata": {},
   "source": [
    "# Review Status Filter"
   ]
  },
  {
   "cell_type": "code",
   "execution_count": 8,
   "id": "de839bfd",
   "metadata": {},
   "outputs": [
    {
     "name": "stdout",
     "output_type": "stream",
     "text": [
      "review_exists=true\n"
     ]
    }
   ],
   "source": [
    "filter = SearchFilter(project=project)\n",
    "\n",
    "# filter.review_is_any_one_of = [\"REJECT\"]\n",
    "filter.review_exists = False\n",
    "\n",
    "# # Dumb data\n",
    "# filter.review_is_any_one_of = [\"DUMB STATUS\"]\n",
    "\n",
    "try:\n",
    "    filter_string = filter.to_filter_string()\n",
    "    all_filters += [filter_string]\n",
    "    print(filter_string)\n",
    "except Exception as e:\n",
    "    print(str(e))\n"
   ]
  },
  {
   "cell_type": "markdown",
   "id": "c32b2ca6",
   "metadata": {},
   "source": [
    "# Assignee Filter"
   ]
  },
  {
   "cell_type": "code",
   "execution_count": 9,
   "id": "95e07e5e",
   "metadata": {},
   "outputs": [
    {
     "name": "stdout",
     "output_type": "stream",
     "text": [
      "work_assignee_in%5B%5D=mjlee%40superb-ai.com&work_assignee_none_of%5B%5D=others%40superb-ai.com\n"
     ]
    }
   ],
   "source": [
    "filter = SearchFilter(project=project)\n",
    "\n",
    "filter.assignee_does_not_exists = False\n",
    "filter.assignee_is_any_one_of = [\"mjlee@superb-ai.com\"]\n",
    "filter.assignee_none_of = [\"others@superb-ai.com\"]\n",
    "\n",
    "# # Dumb data\n",
    "# filter.assignee_is_any_one_of = [\"DUMB ASSIGNEE\"]\n",
    "# filter.assignee_none_of = [\"DUMB ASSIGNEE\"]\n",
    "\n",
    "try:\n",
    "    filter_string = filter.to_filter_string()\n",
    "    all_filters += [filter_string]\n",
    "    print(filter_string)\n",
    "except Exception as e:\n",
    "    print(str(e))"
   ]
  },
  {
   "cell_type": "markdown",
   "id": "e3e23fca",
   "metadata": {},
   "source": [
    "# Reviewer Filter"
   ]
  },
  {
   "cell_type": "code",
   "execution_count": 10,
   "id": "066d22fa",
   "metadata": {},
   "outputs": [
    {
     "name": "stdout",
     "output_type": "stream",
     "text": [
      "reviewer_in%5B%5D=mjlee%40superb-ai.com&reviewer_none_of%5B%5D=others%40superb-ai.com\n"
     ]
    }
   ],
   "source": [
    "filter = SearchFilter(project=project)\n",
    "\n",
    "filter.reviewer_is_any_one_of = [\"mjlee@superb-ai.com\"]\n",
    "filter.reviewer_none_of = [\"others@superb-ai.com\"]\n",
    "filter.reviewer_exists = True\n",
    "\n",
    "# # Dumb data\n",
    "# filter.reviewer_is_any_one_of = [\"DUMB REVIEWER\"]\n",
    "# filter.reviewer_none_of = [\"DUMB REVIEWER\"]\n",
    "\n",
    "try:\n",
    "    filter_string = filter.to_filter_string()\n",
    "    all_filters += [filter_string]\n",
    "    print(filter_string)\n",
    "except Exception as e:\n",
    "    print(str(e))"
   ]
  },
  {
   "cell_type": "markdown",
   "id": "5c8f0550",
   "metadata": {},
   "source": [
    "# Tag Filter"
   ]
  },
  {
   "cell_type": "code",
   "execution_count": 11,
   "id": "50c1abf4",
   "metadata": {},
   "outputs": [
    {
     "name": "stdout",
     "output_type": "stream",
     "text": [
      "tag_all%5B%5D=71624524-7768-4f5e-8aa5-c27299e8a537&tag_any%5B%5D=71624524-7768-4f5e-8aa5-c27299e8a537&tag_any%5B%5D=772603e4-95f6-4c99-a759-46567d1bd473&tag_exist=true\n"
     ]
    }
   ],
   "source": [
    "filter = SearchFilter(project=project)\n",
    "\n",
    "filter.tag_contains_all_of = [\"71624524-7768-4f5e-8aa5-c27299e8a537\"]\n",
    "filter.tag_contains_any_one_of = [\"71624524-7768-4f5e-8aa5-c27299e8a537\", \"772603e4-95f6-4c99-a759-46567d1bd473\"]\n",
    "# filter.tag_contains_only = [\"71624524-7768-4f5e-8aa5-c27299e8a537\"]\n",
    "# filter.tag_contains_none_of = [\"772603e4-95f6-4c99-a759-46567d1bd473\"]\n",
    "filter.tag_is_empty = True\n",
    "\n",
    "filter_string = filter.to_filter_string()\n",
    "print(filter_string)\n",
    "all_filters += [filter_string]"
   ]
  },
  {
   "cell_type": "markdown",
   "id": "0307a4af",
   "metadata": {},
   "source": [
    "# Dataset Filter"
   ]
  },
  {
   "cell_type": "code",
   "execution_count": 7,
   "id": "3ae335f4",
   "metadata": {},
   "outputs": [
    {
     "name": "stdout",
     "output_type": "stream",
     "text": [
      "asset_group_in[]=i-t-11&asset_group_in[]=some-dataset-name3\n"
     ]
    }
   ],
   "source": [
    "filter = SearchFilter(project=project)\n",
    "\n",
    "filter.dataset_is_any_one_of = [\"i-t-11\", \"some-dataset-name3\"]\n",
    "\n",
    "filter_string = filter.to_filter_string()\n",
    "print(filter_string)\n",
    "all_filters += [filter_string]"
   ]
  },
  {
   "cell_type": "markdown",
   "id": "38c63ba5",
   "metadata": {},
   "source": [
    "# Data Key Filter"
   ]
  },
  {
   "cell_type": "code",
   "execution_count": 8,
   "id": "de4c5f11",
   "metadata": {},
   "outputs": [
    {
     "name": "stdout",
     "output_type": "stream",
     "text": [
      "asset_key_icontains=.jpg\n"
     ]
    }
   ],
   "source": [
    "filter = SearchFilter(project=project)\n",
    "\n",
    "filter.data_key_contains = \".jpg\"\n",
    "# filter.data_key_matches = \"DUMMY_KEY_MATCHES\"\n",
    "# filter.data_key_starts_with = \"DUMMY_KEY_STARTS\"\n",
    "# filter.data_key_ends_with = \".jpg\"\n",
    "\n",
    "filter_string = filter.to_filter_string()\n",
    "print(filter_string)\n",
    "all_filters += [filter_string]"
   ]
  },
  {
   "cell_type": "markdown",
   "id": "bf62db4b",
   "metadata": {},
   "source": [
    "# Data Added Filter"
   ]
  },
  {
   "cell_type": "code",
   "execution_count": 9,
   "id": "1b5a6ed6",
   "metadata": {},
   "outputs": [
    {
     "name": "stdout",
     "output_type": "stream",
     "text": [
      "created_at_lte=2023-08-28 10:32:20&created_at_gte=2009-12-19 10:32:20\n"
     ]
    }
   ],
   "source": [
    "from datetime import datetime, timedelta\n",
    "filter = SearchFilter(project=project)\n",
    "\n",
    "filter.data_added_at_lte = datetime.now()\n",
    "filter.data_added_at_gte = datetime.now() - timedelta(days=5000)\n",
    "\n",
    "filter_string = filter.to_filter_string()\n",
    "print(filter_string)\n",
    "all_filters += [filter_string]"
   ]
  },
  {
   "cell_type": "markdown",
   "id": "638505da",
   "metadata": {},
   "source": [
    "# Last Labeled at Filter"
   ]
  },
  {
   "cell_type": "code",
   "execution_count": 10,
   "id": "1a67f211",
   "metadata": {},
   "outputs": [
    {
     "name": "stdout",
     "output_type": "stream",
     "text": [
      "last_labeled_at_lte=2023-08-28 10:32:22&last_labeled_at_gte=2009-12-19 10:32:22\n"
     ]
    }
   ],
   "source": [
    "from datetime import datetime, timedelta\n",
    "filter = SearchFilter(project=project)\n",
    "\n",
    "filter.last_labeled_at_lte = datetime.now()\n",
    "filter.last_labeled_at_gte = datetime.now() - timedelta(days=5000)\n",
    "\n",
    "filter_string = filter.to_filter_string()\n",
    "print(filter_string)\n",
    "all_filters += [filter_string]"
   ]
  },
  {
   "cell_type": "code",
   "execution_count": 12,
   "id": "1bad6f3f",
   "metadata": {},
   "outputs": [
    {
     "name": "stdout",
     "output_type": "stream",
     "text": [
      "status_in%5B%5D=WORKING&status_in%5B%5D=WORKING&review_exists=true&work_assignee_in%5B%5D=mjlee%40superb-ai.com&work_assignee_none_of%5B%5D=others%40superb-ai.com&reviewer_in%5B%5D=mjlee%40superb-ai.com&reviewer_none_of%5B%5D=others%40superb-ai.com&tag_all%5B%5D=71624524-7768-4f5e-8aa5-c27299e8a537&tag_any%5B%5D=71624524-7768-4f5e-8aa5-c27299e8a537&tag_any%5B%5D=772603e4-95f6-4c99-a759-46567d1bd473&tag_exist=true\n"
     ]
    }
   ],
   "source": [
    "print(\"&\".join(all_filters))"
   ]
  },
  {
   "cell_type": "code",
   "execution_count": null,
   "id": "3eb3dedd",
   "metadata": {},
   "outputs": [],
   "source": []
  },
  {
   "cell_type": "code",
   "execution_count": null,
   "id": "f5cbb2cf",
   "metadata": {},
   "outputs": [],
   "source": []
  }
 ],
 "metadata": {
  "kernelspec": {
   "display_name": "Python 3 (ipykernel)",
   "language": "python",
   "name": "python3"
  },
  "language_info": {
   "codemirror_mode": {
    "name": "ipython",
    "version": 3
   },
   "file_extension": ".py",
   "mimetype": "text/x-python",
   "name": "python",
   "nbconvert_exporter": "python",
   "pygments_lexer": "ipython3",
   "version": "3.8.17"
  }
 },
 "nbformat": 4,
 "nbformat_minor": 5
}
